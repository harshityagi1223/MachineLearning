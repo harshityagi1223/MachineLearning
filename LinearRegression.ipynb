{
  "nbformat": 4,
  "nbformat_minor": 0,
  "metadata": {
    "colab": {
      "provenance": [],
      "authorship_tag": "ABX9TyOU//dBZXg65r1DruDUfk8u",
      "include_colab_link": true
    },
    "kernelspec": {
      "name": "python3",
      "display_name": "Python 3"
    },
    "language_info": {
      "name": "python"
    }
  },
  "cells": [
    {
      "cell_type": "markdown",
      "metadata": {
        "id": "view-in-github",
        "colab_type": "text"
      },
      "source": [
        "<a href=\"https://colab.research.google.com/github/harshityagi1223/MachineLearning/blob/main/LinearRegression.ipynb\" target=\"_parent\"><img src=\"https://colab.research.google.com/assets/colab-badge.svg\" alt=\"Open In Colab\"/></a>"
      ]
    },
    {
      "cell_type": "code",
      "execution_count": 1,
      "metadata": {
        "id": "_fd4Dczy4ExP"
      },
      "outputs": [],
      "source": [
        "# Code to read csv file into Colaboratory:\n",
        "!pip install -U -q PyDrive\n",
        "from pydrive.auth import GoogleAuth\n",
        "from pydrive.drive import GoogleDrive\n",
        "from google.colab import auth\n",
        "from oauth2client.client import GoogleCredentials\n",
        "# Authenticate and create the PyDrive client.\n",
        "auth.authenticate_user()\n",
        "gauth = GoogleAuth()\n",
        "gauth.credentials = GoogleCredentials.get_application_default()\n",
        "drive = GoogleDrive(gauth)"
      ]
    },
    {
      "cell_type": "code",
      "source": [
        "import pandas as pd\n",
        "import pandas.util.testing as tm\n",
        "import numpy as np\n",
        "import matplotlib.pyplot as plt\n",
        "from sklearn import preprocessing\n",
        "import seaborn as sns\n",
        "from statsmodels.compat import lzip\n",
        "import statsmodels.formula.api as sm\n",
        "import statsmodels.stats.stattools as st\n",
        "import statsmodels.stats.api as sms\n",
        "from sklearn.model_selection import train_test_split\n",
        "from sklearn.linear_model import LogisticRegression\n",
        "from sklearn.linear_model import LinearRegression\n",
        "from sklearn.metrics import r2_score"
      ],
      "metadata": {
        "colab": {
          "base_uri": "https://localhost:8080/"
        },
        "id": "eKdSvztb5cvK",
        "outputId": "b951b15c-4f6c-401f-967c-ece4e49d5787"
      },
      "execution_count": 2,
      "outputs": [
        {
          "output_type": "stream",
          "name": "stderr",
          "text": [
            "<ipython-input-2-a628d7688460>:2: FutureWarning: pandas.util.testing is deprecated. Use the functions in the public API at pandas.testing instead.\n",
            "  import pandas.util.testing as tm\n"
          ]
        }
      ]
    },
    {
      "cell_type": "code",
      "source": [
        "link = 'https://drive.google.com/file/d/1au4EkIMCIU4784VicZfe-MRirFBhKE4w/view?usp=share_link'"
      ],
      "metadata": {
        "id": "cpsdAona55Ul"
      },
      "execution_count": 3,
      "outputs": []
    },
    {
      "cell_type": "code",
      "source": [
        "fluff, id = link.split('=')\n",
        "print (id) # Verify that you have everything after '='"
      ],
      "metadata": {
        "colab": {
          "base_uri": "https://localhost:8080/"
        },
        "id": "YpKMU4K_6Nh1",
        "outputId": "76ce6e4c-d711-4143-a48f-847e35b3ddf7"
      },
      "execution_count": 4,
      "outputs": [
        {
          "output_type": "stream",
          "name": "stdout",
          "text": [
            "share_link\n"
          ]
        }
      ]
    },
    {
      "cell_type": "code",
      "source": [
        "\n",
        "downloaded = drive.CreateFile({'id':'1UVZozqcZdOX8vnM7t1DZurs2yJJpEcE4'}) \n",
        "downloaded.GetContentFile('Adcampaign.csv')  \n",
        "df3 = pd.read_csv('Adcampaign.csv')\n"
      ],
      "metadata": {
        "id": "jT0nNVUE6ONn"
      },
      "execution_count": 5,
      "outputs": []
    },
    {
      "cell_type": "code",
      "source": [
        "print(df3)"
      ],
      "metadata": {
        "colab": {
          "base_uri": "https://localhost:8080/"
        },
        "id": "JIUgzAQI6R1R",
        "outputId": "c5c2338c-ed1d-4d4a-83ca-57ba675b7020"
      },
      "execution_count": 6,
      "outputs": [
        {
          "output_type": "stream",
          "name": "stdout",
          "text": [
            "   Month  No. of Adverts (X)  No. of bookings (Y)\n",
            "0      1                  20                   61\n",
            "1      2                  24                   77\n",
            "2      3                  30                   72\n",
            "3      4                  23                   66\n",
            "4      5                  27                   85\n",
            "5      6                  25                   77\n",
            "6      7                  32                   90\n",
            "7      8                  35                  100\n"
          ]
        }
      ]
    },
    {
      "cell_type": "code",
      "source": [
        "\n",
        "\n",
        "sns.set()\n",
        "%matplotlib inline\n",
        "df3.plot.scatter(x='No. of Adverts (X)', y='No. of bookings (Y)')\n",
        "\n"
      ],
      "metadata": {
        "colab": {
          "base_uri": "https://localhost:8080/",
          "height": 339
        },
        "id": "CW2FUnzE6aM9",
        "outputId": "24aa8d27-2d47-4765-dd2a-1ccb37e336e4"
      },
      "execution_count": 7,
      "outputs": [
        {
          "output_type": "stream",
          "name": "stderr",
          "text": [
            "WARNING:matplotlib.axes._axes:*c* argument looks like a single numeric RGB or RGBA sequence, which should be avoided as value-mapping will have precedence in case its length matches with *x* & *y*.  Please use the *color* keyword-argument or provide a 2-D array with a single row if you intend to specify the same RGB or RGBA value for all points.\n"
          ]
        },
        {
          "output_type": "execute_result",
          "data": {
            "text/plain": [
              "<matplotlib.axes._subplots.AxesSubplot at 0x7f87051918e0>"
            ]
          },
          "metadata": {},
          "execution_count": 7
        },
        {
          "output_type": "display_data",
          "data": {
            "text/plain": [
              "<Figure size 432x288 with 1 Axes>"
            ],
            "image/png": "[encoded data removed]"
          },
          "metadata": {
            "needs_background": "light"
          }
        }
      ]
    },
    {
      "cell_type": "code",
      "source": [
        "#df3.plot.scatter(x='No. of Adverts (X)', y='No. of bookings (Y)')\n",
        "sns.regplot('No. of Adverts (X)', # Horizontal axis\n",
        "           'No. of bookings (Y)', # Vertical axis\n",
        "           data=df3)"
      ],
      "metadata": {
        "colab": {
          "base_uri": "https://localhost:8080/",
          "height": 356
        },
        "id": "iN7IixOK_eFy",
        "outputId": "18058856-e59d-4390-9c99-862f427a65d9"
      },
      "execution_count": 8,
      "outputs": [
        {
          "output_type": "stream",
          "name": "stderr",
          "text": [
            "/usr/local/lib/python3.8/dist-packages/seaborn/_decorators.py:36: FutureWarning: Pass the following variables as keyword args: x, y. From version 0.12, the only valid positional argument will be `data`, and passing other arguments without an explicit keyword will result in an error or misinterpretation.\n",
            "  warnings.warn(\n"
          ]
        },
        {
          "output_type": "execute_result",
          "data": {
            "text/plain": [
              "<matplotlib.axes._subplots.AxesSubplot at 0x7f87050774f0>"
            ]
          },
          "metadata": {},
          "execution_count": 8
        },
        {
          "output_type": "display_data",
          "data": {
            "text/plain": [
              "<Figure size 432x288 with 1 Axes>"
            ],
            "image/png": "[encoded data removed]"
          },
          "metadata": {
            "needs_background": "light"
          }
        }
      ]
    },
    {
      "cell_type": "code",
      "source": [
        "x=df3['No. of Adverts (X)'].to_numpy().reshape((-1, 1))\n",
        "y=df3['No. of bookings (Y)'].to_numpy().reshape((-1, 1))"
      ],
      "metadata": {
        "id": "dOeKruVC_ody"
      },
      "execution_count": 9,
      "outputs": []
    },
    {
      "cell_type": "code",
      "source": [
        "model =LinearRegression().fit(x,y)\n",
        "\n",
        "r_sq = model.score(x, y)\n",
        "y_pred=model.predict(x)\n",
        "df3['error']=y-y_pred\n",
        "\n",
        "print('coefficient of determination:', r_sq)\n",
        "print('intercept:', model.intercept_)\n",
        "print('coefficent:', model.coef_)\n",
        "\n"
      ],
      "metadata": {
        "colab": {
          "base_uri": "https://localhost:8080/"
        },
        "id": "ky1wYT2BBDaL",
        "outputId": "821e9446-91fc-4ccb-c879-9291ba707e7d"
      },
      "execution_count": 10,
      "outputs": [
        {
          "output_type": "stream",
          "name": "stdout",
          "text": [
            "coefficient of determination: 0.7541051880057117\n",
            "intercept: [18.67045455]\n",
            "coefficent: [[2.21590909]]\n"
          ]
        }
      ]
    },
    {
      "cell_type": "code",
      "source": [
        "df3['error']=y_pred-y\n",
        "#print(df3)\n",
        "sns.set()\n",
        "%matplotlib inline\n",
        "df3.plot.scatter(x='No. of bookings (Y)', y='error')"
      ],
      "metadata": {
        "colab": {
          "base_uri": "https://localhost:8080/",
          "height": 339
        },
        "id": "_odhfLa6Bk7A",
        "outputId": "f3dd6b1a-7c60-4ede-814c-588970fa1787"
      },
      "execution_count": 11,
      "outputs": [
        {
          "output_type": "stream",
          "name": "stderr",
          "text": [
            "WARNING:matplotlib.axes._axes:*c* argument looks like a single numeric RGB or RGBA sequence, which should be avoided as value-mapping will have precedence in case its length matches with *x* & *y*.  Please use the *color* keyword-argument or provide a 2-D array with a single row if you intend to specify the same RGB or RGBA value for all points.\n"
          ]
        },
        {
          "output_type": "execute_result",
          "data": {
            "text/plain": [
              "<matplotlib.axes._subplots.AxesSubplot at 0x7f8704ba9f10>"
            ]
          },
          "metadata": {},
          "execution_count": 11
        },
        {
          "output_type": "display_data",
          "data": {
            "text/plain": [
              "<Figure size 432x288 with 1 Axes>"
            ],
            "image/png": "[encoded data removed]"
          },
          "metadata": {
            "needs_background": "light"
          }
        }
      ]
    },
    {
      "cell_type": "code",
      "source": [
        "df4=df3\n",
        "df4=df4.rename(columns={\"No. of bookings (Y)\":\"Y\",\"No. of Adverts (X)\":\"X\"})\n",
        "formula_str=\"Y~X\"\n",
        "print(df4)\n",
        "result=sm.ols(formula=formula_str,data=df4).fit()\n",
        "print(result.summary())\n"
      ],
      "metadata": {
        "colab": {
          "base_uri": "https://localhost:8080/"
        },
        "id": "HE2QVpfADu-X",
        "outputId": "04b220af-f565-4c31-dc16-88b09e12b25a"
      },
      "execution_count": 13,
      "outputs": [
        {
          "output_type": "stream",
          "name": "stdout",
          "text": [
            "   Month   X    Y      error\n",
            "0      1  20   61   1.988636\n",
            "1      2  24   77  -5.147727\n",
            "2      3  30   72  13.147727\n",
            "3      4  23   66   3.636364\n",
            "4      5  27   85  -6.500000\n",
            "5      6  25   77  -2.931818\n",
            "6      7  32   90  -0.420455\n",
            "7      8  35  100  -3.772727\n",
            "                            OLS Regression Results                            \n",
            "==============================================================================\n",
            "Dep. Variable:                      Y   R-squared:                       0.754\n",
            "Model:                            OLS   Adj. R-squared:                  0.713\n",
            "Method:                 Least Squares   F-statistic:                     18.40\n",
            "Date:                Fri, 03 Feb 2023   Prob (F-statistic):            0.00515\n",
            "Time:                        16:27:50   Log-Likelihood:                -25.598\n",
            "No. Observations:                   8   AIC:                             55.20\n",
            "Df Residuals:                       6   BIC:                             55.36\n",
            "Df Model:                           1                                         \n",
            "Covariance Type:            nonrobust                                         \n",
            "==============================================================================\n",
            "                 coef    std err          t      P>|t|      [0.025      0.975]\n",
            "------------------------------------------------------------------------------\n",
            "Intercept     18.6705     14.156      1.319      0.235     -15.969      53.310\n",
            "X              2.2159      0.517      4.290      0.005       0.952       3.480\n",
            "==============================================================================\n",
            "Omnibus:                        5.111   Durbin-Watson:                   2.162\n",
            "Prob(Omnibus):                  0.078   Jarque-Bera (JB):                1.643\n",
            "Skew:                          -1.099   Prob(JB):                        0.440\n",
            "Kurtosis:                       3.308   Cond. No.                         160.\n",
            "==============================================================================\n",
            "\n",
            "Notes:\n",
            "[1] Standard Errors assume that the covariance matrix of the errors is correctly specified.\n"
          ]
        },
        {
          "output_type": "stream",
          "name": "stderr",
          "text": [
            "/usr/local/lib/python3.8/dist-packages/scipy/stats/stats.py:1541: UserWarning: kurtosistest only valid for n>=20 ... continuing anyway, n=8\n",
            "  warnings.warn(\"kurtosistest only valid for n>=20 ... continuing \"\n"
          ]
        }
      ]
    },
    {
      "cell_type": "code",
      "source": [
        "formula_str=\"Y~0+X\"\n",
        "print(df4)\n",
        "result=sm.ols(formula=formula_str,data=df4).fit()\n",
        "print(result.summary())"
      ],
      "metadata": {
        "colab": {
          "base_uri": "https://localhost:8080/"
        },
        "id": "h4jI-g5HEPLX",
        "outputId": "e97694e1-700b-4f28-96b2-0cb73a6ed8d1"
      },
      "execution_count": 14,
      "outputs": [
        {
          "output_type": "stream",
          "name": "stdout",
          "text": [
            "   Month   X    Y      error\n",
            "0      1  20   61   1.988636\n",
            "1      2  24   77  -5.147727\n",
            "2      3  30   72  13.147727\n",
            "3      4  23   66   3.636364\n",
            "4      5  27   85  -6.500000\n",
            "5      6  25   77  -2.931818\n",
            "6      7  32   90  -0.420455\n",
            "7      8  35  100  -3.772727\n",
            "                                 OLS Regression Results                                \n",
            "=======================================================================================\n",
            "Dep. Variable:                      Y   R-squared (uncentered):                   0.993\n",
            "Model:                            OLS   Adj. R-squared (uncentered):              0.992\n",
            "Method:                 Least Squares   F-statistic:                              964.4\n",
            "Date:                Fri, 03 Feb 2023   Prob (F-statistic):                    9.27e-09\n",
            "Time:                        16:29:24   Log-Likelihood:                         -26.617\n",
            "No. Observations:                   8   AIC:                                      55.23\n",
            "Df Residuals:                       7   BIC:                                      55.31\n",
            "Df Model:                           1                                                  \n",
            "Covariance Type:            nonrobust                                                  \n",
            "==============================================================================\n",
            "                 coef    std err          t      P>|t|      [0.025      0.975]\n",
            "------------------------------------------------------------------------------\n",
            "X              2.8872      0.093     31.055      0.000       2.667       3.107\n",
            "==============================================================================\n",
            "Omnibus:                        6.009   Durbin-Watson:                   2.295\n",
            "Prob(Omnibus):                  0.050   Jarque-Bera (JB):                1.843\n",
            "Skew:                          -1.144   Prob(JB):                        0.398\n",
            "Kurtosis:                       3.542   Cond. No.                         1.00\n",
            "==============================================================================\n",
            "\n",
            "Notes:\n",
            "[1] R² is computed without centering (uncentered) since the model does not contain a constant.\n",
            "[2] Standard Errors assume that the covariance matrix of the errors is correctly specified.\n"
          ]
        },
        {
          "output_type": "stream",
          "name": "stderr",
          "text": [
            "/usr/local/lib/python3.8/dist-packages/scipy/stats/stats.py:1541: UserWarning: kurtosistest only valid for n>=20 ... continuing anyway, n=8\n",
            "  warnings.warn(\"kurtosistest only valid for n>=20 ... continuing \"\n"
          ]
        }
      ]
    },
    {
      "cell_type": "code",
      "source": [],
      "metadata": {
        "id": "igEA7K8YHHgd"
      },
      "execution_count": null,
      "outputs": []
    }
  ]
}